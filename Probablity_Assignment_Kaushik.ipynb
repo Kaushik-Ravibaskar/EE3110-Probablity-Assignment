{
  "nbformat": 4,
  "nbformat_minor": 0,
  "metadata": {
    "colab": {
      "provenance": [],
      "collapsed_sections": []
    },
    "kernelspec": {
      "name": "python3",
      "display_name": "Python 3"
    },
    "language_info": {
      "name": "python"
    }
  },
  "cells": [
    {
      "cell_type": "markdown",
      "source": [
        "##**This notebook contains some problems given as part of assignment for the course EE3110 Probablity Foundation for Electrical Engineers**"
      ],
      "metadata": {
        "id": "ZEIODnnUKb3j"
      }
    },
    {
      "cell_type": "code",
      "source": [
        "#importing necessary libraries\n",
        "import math as ma\n",
        "import numpy as np\n",
        "import matplotlib.pyplot as plt"
      ],
      "metadata": {
        "id": "Lqxpw3kkLoe1"
      },
      "execution_count": 49,
      "outputs": []
    },
    {
      "cell_type": "markdown",
      "source": [
        "**Problem 1** : Generate Geometric RV and Geometric histogram from (M) Bernoulli experiments,\n",
        "(N) trials per experiment with probability p."
      ],
      "metadata": {
        "id": "6uPygpuZLFBg"
      }
    },
    {
      "cell_type": "markdown",
      "source": [
        "Case 1: M = 100, N = 30, p = 0.4"
      ],
      "metadata": {
        "id": "69ienBjQNTPN"
      }
    },
    {
      "cell_type": "code",
      "source": [
        "#defining variables\n",
        "M = 100\n",
        "N = 30\n",
        "p = 0.4"
      ],
      "metadata": {
        "id": "grZuRz4-Kpv9"
      },
      "execution_count": 50,
      "outputs": []
    },
    {
      "cell_type": "code",
      "source": [
        "#generating random variables\n",
        "SAMPLE_BINOMIAL = np.random.binomial(N, p, M)\n",
        "SAMPLE_GEOMETRIC = (N/SAMPLE_BINOMIAL).astype(int)\n",
        "\n",
        "#plotting random variables\n",
        "plt.figure(figsize=(8,8))\n",
        "plt.hist(SAMPLE_GEOMETRIC, bins=45, density=True)\n",
        "plt.grid()\n",
        "plt.xlabel('x',fontsize=20)\n",
        "plt.ylabel('$f_{X}(x)$',fontsize=20)\n",
        "plt.title('PDF Of Geometric RV', fontsize=15)\n",
        "\n",
        "#computing mean\n",
        "GEOMETRIC_MEAN = np.mean(SAMPLE_GEOMETRIC)\n",
        "print('The mean of geometric RV: {:.3f}'.format(GEOMETRIC_MEAN))"
      ],
      "metadata": {
        "colab": {
          "base_uri": "https://localhost:8080/",
          "height": 541
        },
        "id": "faBeS19pNdc7",
        "outputId": "8c27fd99-84b2-4432-defe-5139e4d55ca6"
      },
      "execution_count": 51,
      "outputs": [
        {
          "output_type": "stream",
          "name": "stdout",
          "text": [
            "The mean of geometric RV: 2.210\n"
          ]
        },
        {
          "output_type": "display_data",
          "data": {
            "text/plain": [
              "<Figure size 576x576 with 1 Axes>"
            ],
            "image/png": "[encoded data removed]"
          },
          "metadata": {
            "needs_background": "light"
          }
        }
      ]
    },
    {
      "cell_type": "markdown",
      "source": [
        "Case 2: M = 1000, N = 30, p = 0.5"
      ],
      "metadata": {
        "id": "DbAMSjkzlRYE"
      }
    },
    {
      "cell_type": "code",
      "source": [
        "#defining variables\n",
        "M = 1000\n",
        "N = 30\n",
        "p = 0.5"
      ],
      "metadata": {
        "id": "Yaq2Ax0YPB34"
      },
      "execution_count": 52,
      "outputs": []
    },
    {
      "cell_type": "code",
      "source": [
        "#genearting random variables\n",
        "SAMPLE_BINOMIAL = np.random.binomial(N, p, M)\n",
        "SAMPLE_GEOMETRIC = (N/SAMPLE_BINOMIAL).astype(int)\n",
        "\n",
        "#plotting random variables\n",
        "plt.figure(figsize=(8,8))\n",
        "plt.hist(SAMPLE_GEOMETRIC, bins=100, density=True)\n",
        "plt.grid()\n",
        "plt.xlabel('x',fontsize=20)\n",
        "plt.ylabel('$f_{X}(x)$',fontsize=20)\n",
        "plt.title('PDF Of Geometric RV', fontsize=15)\n",
        "\n",
        "#computing mean\n",
        "GEOMETRIC_MEAN = np.mean(SAMPLE_GEOMETRIC)\n",
        "print('The mean of geometric RV: {:.3f}'.format(GEOMETRIC_MEAN))"
      ],
      "metadata": {
        "colab": {
          "base_uri": "https://localhost:8080/",
          "height": 541
        },
        "id": "oIMBvYGFlbLx",
        "outputId": "56bedcd7-9196-43f3-dd6a-c5a757b7499e"
      },
      "execution_count": 53,
      "outputs": [
        {
          "output_type": "stream",
          "name": "stdout",
          "text": [
            "The mean of geometric RV: 1.618\n"
          ]
        },
        {
          "output_type": "display_data",
          "data": {
            "text/plain": [
              "<Figure size 576x576 with 1 Axes>"
            ],
            "image/png": "[encoded data removed]"
          },
          "metadata": {
            "needs_background": "light"
          }
        }
      ]
    },
    {
      "cell_type": "markdown",
      "source": [
        "**Explanation of Observation:** From the plots and the average value we can conclude that, as we increase the number of trials and increase the probablity of Bernoulli trial, it takes less number of trials on average to achieve first success as increase in success probablity means more probable to get first success in less number of trials. We can also note that there are no bars (small bars) for second case for values expect 1, 2, 3 as compared to first case, denoting the 'less-trial-more-probable' intuition."
      ],
      "metadata": {
        "id": "GU-ybar_mc0t"
      }
    },
    {
      "cell_type": "markdown",
      "source": [
        "**Problem 2** : Generate 200 pairs of (Xi,Yi) in which components are independent and Xi =\n",
        "Bin (n=8, p=0.5), Yi=Bin (n=4, p=0.5).\n",
        "\n",
        "\n",
        "\n",
        "*   Plot relative frequency of X, Y and Z = X+Y.\n",
        "*   Does it correspond to the pmf that you expect?\n",
        "\n"
      ],
      "metadata": {
        "id": "VBVQf3F9nelp"
      }
    },
    {
      "cell_type": "markdown",
      "source": [
        "Part 1: Plotting relative frequencies of X, Y and Z = X + Y."
      ],
      "metadata": {
        "id": "oYukmjLdn2-L"
      }
    },
    {
      "cell_type": "code",
      "source": [
        "#generating random variables\n",
        "RV_X = np.random.binomial(8, 0.5, size = 200)\n",
        "RV_Y = np.random.binomial(4, 0.5, size = 200)\n",
        "RV_Z = RV_X + RV_Y\n",
        "\n",
        "#plotting random variables\n",
        "plt.figure(figsize=(8,8))\n",
        "plt.hist(RV_X, bins=20, density=True)\n",
        "plt.grid()\n",
        "plt.xlabel('x',fontsize=20)\n",
        "plt.ylabel('$f_{X}(x)$',fontsize=20)\n",
        "plt.title('PDF Of X', fontsize=15)\n",
        "\n",
        "plt.figure(figsize=(8,8))\n",
        "plt.hist(RV_Y, bins=20, density=True)\n",
        "plt.grid()\n",
        "plt.xlabel('y',fontsize=20)\n",
        "plt.ylabel('$f_{Y}(y)$',fontsize=20)\n",
        "plt.title('PDF Of Y', fontsize=15)\n",
        "\n",
        "plt.figure(figsize=(8,8))\n",
        "plt.hist(RV_Z, bins=20, density=True)\n",
        "plt.grid()\n",
        "plt.xlabel('z',fontsize=20)\n",
        "plt.ylabel('$f_{Z}(z)$',fontsize=20)\n",
        "plt.title('PDF Of Z', fontsize=15)"
      ],
      "metadata": {
        "colab": {
          "base_uri": "https://localhost:8080/",
          "height": 1000
        },
        "id": "P-x8uakvlg-l",
        "outputId": "4c963d1e-6d92-4c26-a7a9-90bcdd5f3850"
      },
      "execution_count": 54,
      "outputs": [
        {
          "output_type": "execute_result",
          "data": {
            "text/plain": [
              "Text(0.5, 1.0, 'PDF Of Z')"
            ]
          },
          "metadata": {},
          "execution_count": 54
        },
        {
          "output_type": "display_data",
          "data": {
            "text/plain": [
              "<Figure size 576x576 with 1 Axes>"
            ],
            "image/png": "[encoded data removed]"
          },
          "metadata": {
            "needs_background": "light"
          }
        },
        {
          "output_type": "display_data",
          "data": {
            "text/plain": [
              "<Figure size 576x576 with 1 Axes>"
            ],
            "image/png": "[encoded data removed]"
          },
          "metadata": {
            "needs_background": "light"
          }
        },
        {
          "output_type": "display_data",
          "data": {
            "text/plain": [
              "<Figure size 576x576 with 1 Axes>"
            ],
            "image/png": "[encoded data removed]"
          },
          "metadata": {
            "needs_background": "light"
          }
        }
      ]
    },
    {
      "cell_type": "markdown",
      "source": [
        "**Conclusion_1:** The plots of X and Y correspond to what we expect as,\n",
        "\n",
        "*   mean_X = n*p = 4\n",
        "*   mean_Y = n*p = 2\n",
        "\n",
        "This is where the peaks in the corresponding plots signify too!\n",
        "\n"
      ],
      "metadata": {
        "id": "FKbm6ezxpa80"
      }
    },
    {
      "cell_type": "markdown",
      "source": [
        "**To validate the PMF plot of Z,**\n",
        "\n",
        "As Z is X + Y, and as X and Y share the same success probablity with varying number of trials, Z must be number of successes in n1 + n2 (8 + 4) trials with same success probablity that is,\n",
        "\n",
        "Z should be equal to Bin(12, 0.5)."
      ],
      "metadata": {
        "id": "yGmkFnXzp8KF"
      }
    },
    {
      "cell_type": "code",
      "source": [
        "#generating random variable\n",
        "EXP_Z = np.random.binomial(12, 0.5, 200)\n",
        "\n",
        "#plotting random variable\n",
        "plt.figure(figsize=(8,8))\n",
        "plt.hist(EXP_Z, bins=20, density=True)\n",
        "plt.grid()\n",
        "plt.xlabel('z',fontsize=20)\n",
        "plt.ylabel('$f_{Z}(z)$',fontsize=20)\n",
        "plt.title('PDF Of Exp_Z', fontsize=15)"
      ],
      "metadata": {
        "colab": {
          "base_uri": "https://localhost:8080/",
          "height": 541
        },
        "id": "JDBtzFU2o6iR",
        "outputId": "bd404fe0-012d-4128-c81f-cc3e92f71cc5"
      },
      "execution_count": 55,
      "outputs": [
        {
          "output_type": "execute_result",
          "data": {
            "text/plain": [
              "Text(0.5, 1.0, 'PDF Of Exp_Z')"
            ]
          },
          "metadata": {},
          "execution_count": 55
        },
        {
          "output_type": "display_data",
          "data": {
            "text/plain": [
              "<Figure size 576x576 with 1 Axes>"
            ],
            "image/png": "[encoded data removed]"
          },
          "metadata": {
            "needs_background": "light"
          }
        }
      ]
    },
    {
      "cell_type": "code",
      "source": [
        "#computing mean\n",
        "mean_z = np.mean(RV_Z)\n",
        "mean_exp_z = np.mean(EXP_Z)\n",
        "\n",
        "print('E[Z] = {:.3f}'.format(mean_z), 'E[Exp_Z] = {:.3f}'.format(mean_exp_z))"
      ],
      "metadata": {
        "colab": {
          "base_uri": "https://localhost:8080/"
        },
        "id": "7PduWmLWrI7S",
        "outputId": "33ca8550-77f2-4a83-c156-2c9d2f63b24e"
      },
      "execution_count": 56,
      "outputs": [
        {
          "output_type": "stream",
          "name": "stdout",
          "text": [
            "E[Z] = 6.210 E[Exp_Z] = 6.145\n"
          ]
        }
      ]
    },
    {
      "cell_type": "markdown",
      "source": [
        "**Conclusion_2:** Thus after viewing at their respective plots and computing their means, we can see that they are almost equal, hence Z does follow the expected nature."
      ],
      "metadata": {
        "id": "P4m8LUKnrtVF"
      }
    },
    {
      "cell_type": "markdown",
      "source": [
        "**Problem 3** : Show that the sum of n exponential (λ) random variables is a gamma (n, λ)\n",
        "random variable. Assume n=5,  λ = 0.5."
      ],
      "metadata": {
        "id": "uPck8sDtst2m"
      }
    },
    {
      "cell_type": "code",
      "source": [
        "#generating random variables\n",
        "X1 = np.random.exponential(2, size = 1000000)\n",
        "X2 = np.random.exponential(2, size = 1000000)\n",
        "X3 = np.random.exponential(2, size = 1000000)\n",
        "X4 = np.random.exponential(2, size = 1000000)\n",
        "X5 = np.random.exponential(2, size = 1000000)\n",
        "\n",
        "Y = X1 + X2 + X3 + X4 + X5\n",
        "\n",
        "EXPECTED_Y = np.random.gamma(5, 2, size = 1000000)\n",
        "\n",
        "#plotting random variables\n",
        "plt.figure(figsize=(8,8))\n",
        "plt.hist(Y, bins=1000, density=True)\n",
        "plt.grid()\n",
        "plt.xlabel('y',fontsize=20)\n",
        "plt.ylabel('$f_{Y}(y)$',fontsize=20)\n",
        "plt.title('PDF Of Y', fontsize=15)\n",
        "\n",
        "plt.figure(figsize=(8,8))\n",
        "plt.hist(EXPECTED_Y, bins=1000, density=True)\n",
        "plt.grid()\n",
        "plt.xlabel('y',fontsize=20)\n",
        "plt.ylabel('$f_{Y}(y)$',fontsize=20)\n",
        "plt.title('PDF Of Exp_Y', fontsize=15)"
      ],
      "metadata": {
        "colab": {
          "base_uri": "https://localhost:8080/",
          "height": 1000
        },
        "id": "SNha8y03rpo0",
        "outputId": "abc6033e-9cc4-4ce2-c7d5-c73bc690d9c1"
      },
      "execution_count": 57,
      "outputs": [
        {
          "output_type": "execute_result",
          "data": {
            "text/plain": [
              "Text(0.5, 1.0, 'PDF Of Exp_Y')"
            ]
          },
          "metadata": {},
          "execution_count": 57
        },
        {
          "output_type": "display_data",
          "data": {
            "text/plain": [
              "<Figure size 576x576 with 1 Axes>"
            ],
            "image/png": "[encoded data removed]"
          },
          "metadata": {
            "needs_background": "light"
          }
        },
        {
          "output_type": "display_data",
          "data": {
            "text/plain": [
              "<Figure size 576x576 with 1 Axes>"
            ],
            "image/png": "[encoded data removed]"
          },
          "metadata": {
            "needs_background": "light"
          }
        }
      ]
    },
    {
      "cell_type": "markdown",
      "source": [
        "**Conclusion:** Thus from the similarity of the plots we can say that the sum of exponential random variables is indeed a gamma random variable."
      ],
      "metadata": {
        "id": "IVLBMGHdu-jl"
      }
    },
    {
      "cell_type": "markdown",
      "source": [
        "**Problem 4:** Simulate 10,000 values from a Weibull (4, 6) distribution and estimate the\n",
        "mean of this distribution. The correct value of the mean is 6Γ(5/4). How close is your\n",
        "sample mean?"
      ],
      "metadata": {
        "id": "7t6xAl7MwtGy"
      }
    },
    {
      "cell_type": "code",
      "source": [
        "#generating random variable and computing mean\n",
        "W = 6*np.random.weibull(4, size = 10000)\n",
        "\n",
        "mean_W = np.mean(W)\n",
        "expected_mean_W = ma.gamma(1.25)*6\n",
        "err_mean = abs(mean_W - expected_mean_W)\n",
        "\n",
        "print('Mean of W = {:.3f}'.format(mean_W), 'Expected mean of W = {:.3f}'.format(expected_mean_W))\n",
        "print('Error in mean = {:.3f}'.format(err_mean))"
      ],
      "metadata": {
        "colab": {
          "base_uri": "https://localhost:8080/"
        },
        "id": "lbyDJXF5u5Tw",
        "outputId": "40de1e42-3781-466e-f4fa-a6db5a4b5d1e"
      },
      "execution_count": 58,
      "outputs": [
        {
          "output_type": "stream",
          "name": "stdout",
          "text": [
            "Mean of W = 5.433 Expected mean of W = 5.438\n",
            "Error in mean = 0.006\n"
          ]
        }
      ]
    },
    {
      "cell_type": "markdown",
      "source": [
        "**The simulated mean is pretty close to expected mean.**"
      ],
      "metadata": {
        "id": "tIeO9cWayL55"
      }
    },
    {
      "cell_type": "markdown",
      "source": [
        "**Problem 5** : Let X1, .. ,Xn be independent, and put Yn = X1+ .. +Xn. If Xi ∼ N(2, 8) and n = 5, show\n",
        "that Yn ∼ N(μ, σ2), and identify the mean of Yn."
      ],
      "metadata": {
        "id": "BJ8yEyheypfI"
      }
    },
    {
      "cell_type": "code",
      "source": [
        "#generating random variables\n",
        "X1 = np.random.normal(2, 8, size = 1000000)\n",
        "X2 = np.random.normal(2, 8, size = 1000000)\n",
        "X3 = np.random.normal(2, 8, size = 1000000)\n",
        "X4 = np.random.normal(2, 8, size = 1000000)\n",
        "X5 = np.random.normal(2, 8, size = 1000000)\n",
        "\n",
        "Y = X1 + X2 + X3 + X4 + X5"
      ],
      "metadata": {
        "id": "fZsGUe8WyJ3t"
      },
      "execution_count": 59,
      "outputs": []
    },
    {
      "cell_type": "markdown",
      "source": [
        "Now, consider expected Y to be N(10, 40)."
      ],
      "metadata": {
        "id": "8eybQMyQzlT_"
      }
    },
    {
      "cell_type": "code",
      "source": [
        "EXPECTED_Y = np.random.normal(10, 40, size = 1000000)\n",
        "\n",
        "#plotting random variables\n",
        "plt.figure(figsize=(8,8))\n",
        "plt.hist(Y, bins=1000, density=True)\n",
        "plt.grid()\n",
        "plt.xlabel('y',fontsize=20)\n",
        "plt.ylabel('$f_{Y}(y)$',fontsize=20)\n",
        "plt.title('PDF Of Y', fontsize=15)\n",
        "\n",
        "plt.figure(figsize=(8,8))\n",
        "plt.hist(EXPECTED_Y, bins=1000, density=True)\n",
        "plt.grid()\n",
        "plt.xlabel('y',fontsize=20)\n",
        "plt.ylabel('$f_{Y}(y)$',fontsize=20)\n",
        "plt.title('PDF Of Exp_Y', fontsize=15)"
      ],
      "metadata": {
        "colab": {
          "base_uri": "https://localhost:8080/",
          "height": 1000
        },
        "id": "LBeeInWNz0Qw",
        "outputId": "0cad27a9-8c66-4f10-e43c-701a56e6fc29"
      },
      "execution_count": 60,
      "outputs": [
        {
          "output_type": "execute_result",
          "data": {
            "text/plain": [
              "Text(0.5, 1.0, 'PDF Of Exp_Y')"
            ]
          },
          "metadata": {},
          "execution_count": 60
        },
        {
          "output_type": "display_data",
          "data": {
            "text/plain": [
              "<Figure size 576x576 with 1 Axes>"
            ],
            "image/png": "[encoded data removed]"
          },
          "metadata": {
            "needs_background": "light"
          }
        },
        {
          "output_type": "display_data",
          "data": {
            "text/plain": [
              "<Figure size 576x576 with 1 Axes>"
            ],
            "image/png": "[encoded data removed]"
          },
          "metadata": {
            "needs_background": "light"
          }
        }
      ]
    },
    {
      "cell_type": "markdown",
      "source": [
        "**Conclusion:** Thus we can say that as the above plots are identical, Y is indeed a standard normal RV with following parameters:\n",
        "\n",
        "\n",
        "\n",
        "*   E[Y] = 5*E[Xi]\n",
        "*   Var[Y] = 5*Var[Xi]\n",
        "\n",
        "Now to identify the mean of Y, using the simulated values, we get;\n",
        "\n"
      ],
      "metadata": {
        "id": "4fO6t1-R0IKA"
      }
    },
    {
      "cell_type": "code",
      "source": [
        "#computing mean\n",
        "mean_Y = np.mean(Y)\n",
        "print('Mean of Y = {:.3f}'.format(mean_Y))"
      ],
      "metadata": {
        "colab": {
          "base_uri": "https://localhost:8080/"
        },
        "id": "iNLWzsE5z5ck",
        "outputId": "a092df08-1667-48c9-87b1-5b76da1ec94d"
      },
      "execution_count": 61,
      "outputs": [
        {
          "output_type": "stream",
          "name": "stdout",
          "text": [
            "Mean of Y = 9.995\n"
          ]
        }
      ]
    },
    {
      "cell_type": "markdown",
      "source": [
        "**Thus we can see that the simulated mean is pretty close to 10 (expected mean).**"
      ],
      "metadata": {
        "id": "cKJHgdqb0zuB"
      }
    }
  ]
}