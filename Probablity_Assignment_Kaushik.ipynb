{
  "nbformat": 4,
  "nbformat_minor": 0,
  "metadata": {
    "colab": {
      "provenance": [],
      "collapsed_sections": []
    },
    "kernelspec": {
      "name": "python3",
      "display_name": "Python 3"
    },
    "language_info": {
      "name": "python"
    }
  },
  "cells": [
    {
      "cell_type": "markdown",
      "source": [
        "##**This notebook contains some problems given as part of assignment for the course EE3110 Probablity Foundation for Electrical Engineers**"
      ],
      "metadata": {
        "id": "ZEIODnnUKb3j"
      }
    },
    {
      "cell_type": "code",
      "source": [
        "#importing necessary libraries\n",
        "import math as ma\n",
        "import numpy as np\n",
        "import matplotlib.pyplot as plt"
      ],
      "metadata": {
        "id": "Lqxpw3kkLoe1"
      },
      "execution_count": 26,
      "outputs": []
    },
    {
      "cell_type": "markdown",
      "source": [
        "**Problem 1** : Generate Geometric RV and Geometric histogram from (M) Bernoulli experiments,\n",
        "(N) trials per experiment with probability p."
      ],
      "metadata": {
        "id": "6uPygpuZLFBg"
      }
    },
    {
      "cell_type": "markdown",
      "source": [
        "Case 1: M = 100, N = 30, p = 0.4"
      ],
      "metadata": {
        "id": "69ienBjQNTPN"
      }
    },
    {
      "cell_type": "code",
      "source": [
        "#defining variables\n",
        "M = 100\n",
        "N = 30\n",
        "p = 0.4"
      ],
      "metadata": {
        "id": "grZuRz4-Kpv9"
      },
      "execution_count": 27,
      "outputs": []
    },
    {
      "cell_type": "code",
      "source": [
        "#defining variables and geometric random variable\n",
        "GEOMETRIC_RV = []\n",
        "count = None\n",
        "EXPERIMENT = None\n",
        "\n",
        "for i in range (M):\n",
        "  count = 0\n",
        "  EXPERIMENT = np.random.binomial(1, p, size=N)\n",
        "\n",
        "  for j in EXPERIMENT:\n",
        "    if (j == 0):\n",
        "      count = count + 1\n",
        "    else:\n",
        "      count = count + 1\n",
        "      break\n",
        "  \n",
        "  GEOMETRIC_RV.append(count)\n",
        "\n",
        "#plotting geometric random variable\n",
        "plt.figure(figsize=(8,8))\n",
        "plt.hist(GEOMETRIC_RV, bins=50, density=False)\n",
        "plt.grid()\n",
        "plt.xlabel('RV Value',fontsize=20)\n",
        "plt.ylabel('$Frequency of Occurence$',fontsize=20)\n",
        "plt.title('Plot (f) Of Geometric RV', fontsize=15)\n",
        "\n",
        "#computing mean and variance\n",
        "mean_1 = np.mean(GEOMETRIC_RV)\n",
        "var_1 = np.var(GEOMETRIC_RV)\n",
        "print('Mean = {:.3f}'.format(mean_1), 'Variance = {:.3f}'.format(var_1))"
      ],
      "metadata": {
        "colab": {
          "base_uri": "https://localhost:8080/",
          "height": 541
        },
        "id": "faBeS19pNdc7",
        "outputId": "e30cf0ad-5091-48d0-bf3e-e2738ce2db68"
      },
      "execution_count": 28,
      "outputs": [
        {
          "output_type": "stream",
          "name": "stdout",
          "text": [
            "Mean = 2.410 Variance = 2.442\n"
          ]
        },
        {
          "output_type": "display_data",
          "data": {
            "text/plain": [
              "<Figure size 576x576 with 1 Axes>"
            ],
            "image/png": "[encoded data removed]"
          },
          "metadata": {
            "needs_background": "light"
          }
        }
      ]
    },
    {
      "cell_type": "markdown",
      "source": [
        "Case 2: M = 1000, N = 30, p = 0.5"
      ],
      "metadata": {
        "id": "DbAMSjkzlRYE"
      }
    },
    {
      "cell_type": "code",
      "source": [
        "#defining variables\n",
        "M = 1000\n",
        "N = 30\n",
        "p = 0.5"
      ],
      "metadata": {
        "id": "Yaq2Ax0YPB34"
      },
      "execution_count": 29,
      "outputs": []
    },
    {
      "cell_type": "code",
      "source": [
        "#defining variables and geometric random variable\n",
        "GEOMETRIC_RV = []\n",
        "count = None\n",
        "EXPERIMENT = None\n",
        "\n",
        "for i in range (M):\n",
        "  count = 0\n",
        "  EXPERIMENT = np.random.binomial(1, p, size=N)\n",
        "\n",
        "  for j in EXPERIMENT:\n",
        "    if (j == 0):\n",
        "      count = count + 1\n",
        "    else:\n",
        "      count = count + 1\n",
        "      break\n",
        "  \n",
        "  GEOMETRIC_RV.append(count)\n",
        "\n",
        "#plotting geometric random variable\n",
        "plt.figure(figsize=(8,8))\n",
        "plt.hist(GEOMETRIC_RV, bins=50, density=False)\n",
        "plt.grid()\n",
        "plt.xlabel('RV Value',fontsize=20)\n",
        "plt.ylabel('$Frequency of Occurence$',fontsize=20)\n",
        "plt.title('Plot (f) Of Geometric RV', fontsize=15)\n",
        "\n",
        "#computing mean and variance\n",
        "mean_1 = np.mean(GEOMETRIC_RV)\n",
        "var_1 = np.var(GEOMETRIC_RV)\n",
        "print('Mean = {:.3f}'.format(mean_1), 'Variance = {:.3f}'.format(var_1))"
      ],
      "metadata": {
        "colab": {
          "base_uri": "https://localhost:8080/",
          "height": 541
        },
        "id": "oIMBvYGFlbLx",
        "outputId": "20fa4faf-c272-48c2-d8df-65f68fb18dc3"
      },
      "execution_count": 30,
      "outputs": [
        {
          "output_type": "stream",
          "name": "stdout",
          "text": [
            "Mean = 1.984 Variance = 1.766\n"
          ]
        },
        {
          "output_type": "display_data",
          "data": {
            "text/plain": [
              "<Figure size 576x576 with 1 Axes>"
            ],
            "image/png": "[encoded data removed]"
          },
          "metadata": {
            "needs_background": "light"
          }
        }
      ]
    },
    {
      "cell_type": "markdown",
      "source": [
        "**Explanation of Observation:** From the plots and the average value we can conclude that, as we increase the number of experiments, the mean of random variable converges to the expected mean that is, in the 2nd case, as we have increased the number of experiments to 1000, the mean comes out to be 1.984 which is very close to 2 (expected mean). In the 1st case, owing to less number of experiments, the mean comes out to be 2.410 which is slightly far from 2.5 (expected mean)."
      ],
      "metadata": {
        "id": "GU-ybar_mc0t"
      }
    },
    {
      "cell_type": "markdown",
      "source": [
        "**Problem 2** : Generate 200 pairs of (Xi,Yi) in which components are independent and Xi =\n",
        "Bin (n=8, p=0.5), Yi=Bin (n=4, p=0.5).\n",
        "\n",
        "\n",
        "\n",
        "*   Plot relative frequency of X, Y and Z = X+Y.\n",
        "*   Does it correspond to the pmf that you expect?\n",
        "\n"
      ],
      "metadata": {
        "id": "VBVQf3F9nelp"
      }
    },
    {
      "cell_type": "markdown",
      "source": [
        "Part 1: Plotting relative frequencies of X, Y and Z = X + Y."
      ],
      "metadata": {
        "id": "oYukmjLdn2-L"
      }
    },
    {
      "cell_type": "code",
      "source": [
        "#generating random variables\n",
        "RV_X = np.random.binomial(8, 0.5, size = 200)\n",
        "RV_Y = np.random.binomial(4, 0.5, size = 200)\n",
        "RV_Z = RV_X + RV_Y\n",
        "\n",
        "#plotting random variables\n",
        "plt.figure(figsize=(8,8))\n",
        "plt.hist(RV_X, bins=20, density=True)\n",
        "plt.grid()\n",
        "plt.xlabel('x',fontsize=20)\n",
        "plt.ylabel('$f_{X}(x)$',fontsize=20)\n",
        "plt.title('PDF Of X', fontsize=15)\n",
        "\n",
        "plt.figure(figsize=(8,8))\n",
        "plt.hist(RV_Y, bins=20, density=True)\n",
        "plt.grid()\n",
        "plt.xlabel('y',fontsize=20)\n",
        "plt.ylabel('$f_{Y}(y)$',fontsize=20)\n",
        "plt.title('PDF Of Y', fontsize=15)\n",
        "\n",
        "plt.figure(figsize=(8,8))\n",
        "plt.hist(RV_Z, bins=20, density=True)\n",
        "plt.grid()\n",
        "plt.xlabel('z',fontsize=20)\n",
        "plt.ylabel('$f_{Z}(z)$',fontsize=20)\n",
        "plt.title('PDF Of Z', fontsize=15)"
      ],
      "metadata": {
        "colab": {
          "base_uri": "https://localhost:8080/",
          "height": 1000
        },
        "id": "P-x8uakvlg-l",
        "outputId": "c9524d9b-83cb-4f0f-f73e-336ff4a37ae7"
      },
      "execution_count": 31,
      "outputs": [
        {
          "output_type": "execute_result",
          "data": {
            "text/plain": [
              "Text(0.5, 1.0, 'PDF Of Z')"
            ]
          },
          "metadata": {},
          "execution_count": 31
        },
        {
          "output_type": "display_data",
          "data": {
            "text/plain": [
              "<Figure size 576x576 with 1 Axes>"
            ],
            "image/png": "[encoded data removed]"
          },
          "metadata": {
            "needs_background": "light"
          }
        },
        {
          "output_type": "display_data",
          "data": {
            "text/plain": [
              "<Figure size 576x576 with 1 Axes>"
            ],
            "image/png": "[encoded data removed]"
          },
          "metadata": {
            "needs_background": "light"
          }
        },
        {
          "output_type": "display_data",
          "data": {
            "text/plain": [
              "<Figure size 576x576 with 1 Axes>"
            ],
            "image/png": "[encoded data removed]"
          },
          "metadata": {
            "needs_background": "light"
          }
        }
      ]
    },
    {
      "cell_type": "markdown",
      "source": [
        "**Conclusion_1:** The plots of X and Y correspond to what we expect as,\n",
        "\n",
        "*   mean_X = n*p = 4\n",
        "*   mean_Y = n*p = 2\n",
        "\n",
        "This is where the peaks in the corresponding plots signify too!\n",
        "\n"
      ],
      "metadata": {
        "id": "FKbm6ezxpa80"
      }
    },
    {
      "cell_type": "markdown",
      "source": [
        "**To validate the PMF plot of Z,**\n",
        "\n",
        "As Z is X + Y, and as X and Y share the same success probablity with varying number of trials, Z must be number of successes in n1 + n2 (8 + 4) trials with same success probablity that is,\n",
        "\n",
        "Z should be equal to Bin(12, 0.5)."
      ],
      "metadata": {
        "id": "yGmkFnXzp8KF"
      }
    },
    {
      "cell_type": "code",
      "source": [
        "#generating random variable\n",
        "EXP_Z = np.random.binomial(12, 0.5, 200)\n",
        "\n",
        "#plotting random variable\n",
        "plt.figure(figsize=(8,8))\n",
        "plt.hist(EXP_Z, bins=20, density=True)\n",
        "plt.grid()\n",
        "plt.xlabel('z',fontsize=20)\n",
        "plt.ylabel('$f_{Z}(z)$',fontsize=20)\n",
        "plt.title('PDF Of Exp_Z', fontsize=15)"
      ],
      "metadata": {
        "colab": {
          "base_uri": "https://localhost:8080/",
          "height": 541
        },
        "id": "JDBtzFU2o6iR",
        "outputId": "de39ac3d-c373-422a-ca86-67d01bf455ba"
      },
      "execution_count": 32,
      "outputs": [
        {
          "output_type": "execute_result",
          "data": {
            "text/plain": [
              "Text(0.5, 1.0, 'PDF Of Exp_Z')"
            ]
          },
          "metadata": {},
          "execution_count": 32
        },
        {
          "output_type": "display_data",
          "data": {
            "text/plain": [
              "<Figure size 576x576 with 1 Axes>"
            ],
            "image/png": "[encoded data removed]"
          },
          "metadata": {
            "needs_background": "light"
          }
        }
      ]
    },
    {
      "cell_type": "code",
      "source": [
        "#computing mean\n",
        "mean_z = np.mean(RV_Z)\n",
        "mean_exp_z = np.mean(EXP_Z)\n",
        "\n",
        "print('E[Z] = {:.3f}'.format(mean_z), 'E[Exp_Z] = {:.3f}'.format(mean_exp_z))"
      ],
      "metadata": {
        "colab": {
          "base_uri": "https://localhost:8080/"
        },
        "id": "7PduWmLWrI7S",
        "outputId": "f345a4ec-4972-40bd-d355-7131aaceb2c4"
      },
      "execution_count": 33,
      "outputs": [
        {
          "output_type": "stream",
          "name": "stdout",
          "text": [
            "E[Z] = 6.095 E[Exp_Z] = 6.075\n"
          ]
        }
      ]
    },
    {
      "cell_type": "markdown",
      "source": [
        "**Conclusion_2:** Thus after viewing at their respective plots and computing their means, we can see that they are almost equal, hence Z does follow the expected nature."
      ],
      "metadata": {
        "id": "P4m8LUKnrtVF"
      }
    },
    {
      "cell_type": "markdown",
      "source": [
        "**Problem 3** : Show that the sum of n exponential (λ) random variables is a gamma (n, λ)\n",
        "random variable. Assume n=5,  λ = 0.5."
      ],
      "metadata": {
        "id": "uPck8sDtst2m"
      }
    },
    {
      "cell_type": "code",
      "source": [
        "#generating random variables\n",
        "X1 = np.random.exponential(2, size = 1000000)\n",
        "X2 = np.random.exponential(2, size = 1000000)\n",
        "X3 = np.random.exponential(2, size = 1000000)\n",
        "X4 = np.random.exponential(2, size = 1000000)\n",
        "X5 = np.random.exponential(2, size = 1000000)\n",
        "\n",
        "Y = X1 + X2 + X3 + X4 + X5\n",
        "\n",
        "EXPECTED_Y = np.random.gamma(5, 2, size = 1000000)\n",
        "\n",
        "#plotting random variables\n",
        "plt.figure(figsize=(8,8))\n",
        "plt.hist(Y, bins=1000, density=True)\n",
        "plt.grid()\n",
        "plt.xlabel('y',fontsize=20)\n",
        "plt.ylabel('$f_{Y}(y)$',fontsize=20)\n",
        "plt.title('PDF Of Y', fontsize=15)\n",
        "\n",
        "plt.figure(figsize=(8,8))\n",
        "plt.hist(EXPECTED_Y, bins=1000, density=True)\n",
        "plt.grid()\n",
        "plt.xlabel('y',fontsize=20)\n",
        "plt.ylabel('$f_{Y}(y)$',fontsize=20)\n",
        "plt.title('PDF Of Exp_Y', fontsize=15)"
      ],
      "metadata": {
        "colab": {
          "base_uri": "https://localhost:8080/",
          "height": 1000
        },
        "id": "SNha8y03rpo0",
        "outputId": "4ea2199b-bbd9-4a12-9d29-7ba769d736a5"
      },
      "execution_count": 34,
      "outputs": [
        {
          "output_type": "execute_result",
          "data": {
            "text/plain": [
              "Text(0.5, 1.0, 'PDF Of Exp_Y')"
            ]
          },
          "metadata": {},
          "execution_count": 34
        },
        {
          "output_type": "display_data",
          "data": {
            "text/plain": [
              "<Figure size 576x576 with 1 Axes>"
            ],
            "image/png": "[encoded data removed]"
          },
          "metadata": {
            "needs_background": "light"
          }
        },
        {
          "output_type": "display_data",
          "data": {
            "text/plain": [
              "<Figure size 576x576 with 1 Axes>"
            ],
            "image/png": "[encoded data removed]"
          },
          "metadata": {
            "needs_background": "light"
          }
        }
      ]
    },
    {
      "cell_type": "markdown",
      "source": [
        "**Conclusion:** Thus from the similarity of the plots we can say that the sum of exponential random variables is indeed a gamma random variable."
      ],
      "metadata": {
        "id": "IVLBMGHdu-jl"
      }
    },
    {
      "cell_type": "markdown",
      "source": [
        "**Problem 4:** Simulate 10,000 values from a Weibull (4, 6) distribution and estimate the\n",
        "mean of this distribution. The correct value of the mean is 6Γ(5/4). How close is your\n",
        "sample mean?"
      ],
      "metadata": {
        "id": "7t6xAl7MwtGy"
      }
    },
    {
      "cell_type": "code",
      "source": [
        "#generating random variable and computing mean\n",
        "W = 6*np.random.weibull(4, size = 10000)\n",
        "\n",
        "mean_W = np.mean(W)\n",
        "expected_mean_W = ma.gamma(1.25)*6\n",
        "err_mean = abs(mean_W - expected_mean_W)\n",
        "\n",
        "print('Mean of W = {:.3f}'.format(mean_W), 'Expected mean of W = {:.3f}'.format(expected_mean_W))\n",
        "print('Error in mean = {:.3f}'.format(err_mean))"
      ],
      "metadata": {
        "colab": {
          "base_uri": "https://localhost:8080/"
        },
        "id": "lbyDJXF5u5Tw",
        "outputId": "67725537-3ba1-4524-9190-8f55bbc12c4f"
      },
      "execution_count": 35,
      "outputs": [
        {
          "output_type": "stream",
          "name": "stdout",
          "text": [
            "Mean of W = 5.443 Expected mean of W = 5.438\n",
            "Error in mean = 0.004\n"
          ]
        }
      ]
    },
    {
      "cell_type": "markdown",
      "source": [
        "**The simulated mean is pretty close to expected mean.**"
      ],
      "metadata": {
        "id": "tIeO9cWayL55"
      }
    },
    {
      "cell_type": "markdown",
      "source": [
        "**Problem 5** : Let X1, .. ,Xn be independent, and put Yn = X1+ .. +Xn. If Xi ∼ N(2, 8) and n = 5, show\n",
        "that Yn ∼ N(μ, σ2), and identify the mean of Yn."
      ],
      "metadata": {
        "id": "BJ8yEyheypfI"
      }
    },
    {
      "cell_type": "code",
      "source": [
        "#generating random variables\n",
        "X1 = np.random.normal(2, ma.sqrt(8), size = 1000000)\n",
        "X2 = np.random.normal(2, ma.sqrt(8), size = 1000000)\n",
        "X3 = np.random.normal(2, ma.sqrt(8), size = 1000000)\n",
        "X4 = np.random.normal(2, ma.sqrt(8), size = 1000000)\n",
        "X5 = np.random.normal(2, ma.sqrt(8), size = 1000000)\n",
        "\n",
        "Y = X1 + X2 + X3 + X4 + X5"
      ],
      "metadata": {
        "id": "fZsGUe8WyJ3t"
      },
      "execution_count": 42,
      "outputs": []
    },
    {
      "cell_type": "markdown",
      "source": [
        "Now, consider expected Y to be N(10, 40)."
      ],
      "metadata": {
        "id": "8eybQMyQzlT_"
      }
    },
    {
      "cell_type": "code",
      "source": [
        "EXPECTED_Y = np.random.normal(10, ma.sqrt(40), size = 1000000)\n",
        "\n",
        "#plotting random variables\n",
        "plt.figure(figsize=(8,8))\n",
        "plt.hist(Y, bins=1000, density=True)\n",
        "plt.grid()\n",
        "plt.xlabel('y',fontsize=20)\n",
        "plt.ylabel('$f_{Y}(y)$',fontsize=20)\n",
        "plt.title('PDF Of Y', fontsize=15)\n",
        "\n",
        "plt.figure(figsize=(8,8))\n",
        "plt.hist(EXPECTED_Y, bins=1000, density=True)\n",
        "plt.grid()\n",
        "plt.xlabel('y',fontsize=20)\n",
        "plt.ylabel('$f_{Y}(y)$',fontsize=20)\n",
        "plt.title('PDF Of Exp_Y', fontsize=15)"
      ],
      "metadata": {
        "colab": {
          "base_uri": "https://localhost:8080/",
          "height": 1000
        },
        "id": "LBeeInWNz0Qw",
        "outputId": "84b4ed75-0401-4b6a-a3c5-ecc5c3963130"
      },
      "execution_count": 43,
      "outputs": [
        {
          "output_type": "execute_result",
          "data": {
            "text/plain": [
              "Text(0.5, 1.0, 'PDF Of Exp_Y')"
            ]
          },
          "metadata": {},
          "execution_count": 43
        },
        {
          "output_type": "display_data",
          "data": {
            "text/plain": [
              "<Figure size 576x576 with 1 Axes>"
            ],
            "image/png": "[encoded data removed]"
          },
          "metadata": {
            "needs_background": "light"
          }
        },
        {
          "output_type": "display_data",
          "data": {
            "text/plain": [
              "<Figure size 576x576 with 1 Axes>"
            ],
            "image/png": "[encoded data removed]"
          },
          "metadata": {
            "needs_background": "light"
          }
        }
      ]
    },
    {
      "cell_type": "markdown",
      "source": [
        "**Conclusion:** Thus we can say that as the above plots are identical, Y is indeed a standard normal RV with following parameters:\n",
        "\n",
        "\n",
        "\n",
        "*   E[Y] = 5*E[Xi]\n",
        "*   Var[Y] = 5*Var[Xi]\n",
        "\n",
        "Now to identify the mean of Y, using the simulated values, we get;\n",
        "\n"
      ],
      "metadata": {
        "id": "4fO6t1-R0IKA"
      }
    },
    {
      "cell_type": "code",
      "source": [
        "#computing mean\n",
        "mean_Y = np.mean(Y)\n",
        "print('Mean of Y = {:.3f}'.format(mean_Y))"
      ],
      "metadata": {
        "colab": {
          "base_uri": "https://localhost:8080/"
        },
        "id": "iNLWzsE5z5ck",
        "outputId": "6192fa72-8dc6-44b6-ab13-f03e80b95393"
      },
      "execution_count": 38,
      "outputs": [
        {
          "output_type": "stream",
          "name": "stdout",
          "text": [
            "Mean of Y = 10.001\n"
          ]
        }
      ]
    },
    {
      "cell_type": "markdown",
      "source": [
        "**Thus we can see that the simulated mean is pretty close to 10 (expected mean).**"
      ],
      "metadata": {
        "id": "cKJHgdqb0zuB"
      }
    },
    {
      "cell_type": "markdown",
      "source": [
        "**Practice Problems**"
      ],
      "metadata": {
        "id": "vgmX6wLPa0-C"
      }
    },
    {
      "cell_type": "markdown",
      "source": [
        "1. Compute the CDF and CCDF of Gaussian RV as N(2, 5)."
      ],
      "metadata": {
        "id": "zU-XB4mYa7DH"
      }
    },
    {
      "cell_type": "code",
      "source": [
        "input_value = 2\n",
        "\n",
        "#defining random variables\n",
        "X = np.random.normal(2, ma.sqrt(5), size = 1000000)\n",
        "\n",
        "#plotting X\n",
        "plt.figure(figsize=(8,8))\n",
        "plt.hist(X, bins=1000, density=True)\n",
        "plt.grid()\n",
        "plt.xlabel('x',fontsize=20)\n",
        "plt.ylabel('$f_{X}(x)$',fontsize=20)\n",
        "plt.title('PDF Of X = N(2,5)', fontsize=15)\n",
        "\n",
        "#finding cdf and ccdf\n",
        "Y = (X <= input_value)\n",
        "CDF_value = np.sum(Y)/1000000\n",
        "CCDF_value = 1 - CDF_value\n",
        "print('The CDF value of the given input is = {:.4f}'.format(CDF_value), 'The CCDF value of the given input is = {:.4f}'.format(CCDF_value))"
      ],
      "metadata": {
        "colab": {
          "base_uri": "https://localhost:8080/",
          "height": 541
        },
        "id": "Hk9w3jNua0eA",
        "outputId": "fe34ae34-9631-49df-bc78-c6b67a9e2a8a"
      },
      "execution_count": 39,
      "outputs": [
        {
          "output_type": "stream",
          "name": "stdout",
          "text": [
            "The CDF value of the given input is = 0.5006 The CCDF value of the given input is = 0.4994\n"
          ]
        },
        {
          "output_type": "display_data",
          "data": {
            "text/plain": [
              "<Figure size 576x576 with 1 Axes>"
            ],
            "image/png": "[encoded data removed]"
          },
          "metadata": {
            "needs_background": "light"
          }
        }
      ]
    },
    {
      "cell_type": "markdown",
      "source": [
        "2. Suppose you enter a bank having two clerks. The service time of the clerks are exponentially distributed with rates $\\lambda_{1} = 4$ per hour and $\\lambda_{2} = 9$ per hour respectively. At the moment both the clerks are busy but there is no one else waiting in line. You will enter service when either one of the clerks becomes free. \\\\\n",
        "\n",
        "*   Find the probability that clerk 1 becomes free first.\n",
        "*   What is the mean waiting time before you are served. \\\\\n",
        "\n",
        "   **Theoretical Solution:**\n",
        "*  P(Clerk 1 becomes free first) = $\\frac{λ_{1}}{λ_{1}+λ_{2}} = \\frac{4}{13}$\n",
        "*  $E[Y] = E[min(X1,X2)] = \\frac{1}{λ_{1}+λ_{2}} = \\frac{1}{13}$ hours = 4.62 minutes."
      ],
      "metadata": {
        "id": "tnlN8zjRfww3"
      }
    },
    {
      "cell_type": "code",
      "source": [
        "#defining random variables\n",
        "X1 = np.random.exponential((1/4), size = 1000000)\n",
        "X2 = np.random.exponential((1/9), size = 1000000)\n",
        "\n",
        "#checking when Clerk 1 is free first\n",
        "C1_free = np.less(X1, X2)\n",
        "print('Probablity that Clerk 1 is free first is {:.4f}'.format(np.sum(C1_free)/1000000))\n",
        "\n",
        "#computing mean waiting time\n",
        "W_t = np.minimum(X1, X2)\n",
        "mean_W_t = np.mean(W_t)\n",
        "print('Mean waiting time is {:.4f} mins.'.format(mean_W_t*60))"
      ],
      "metadata": {
        "colab": {
          "base_uri": "https://localhost:8080/"
        },
        "id": "av3hEVTkfr7Y",
        "outputId": "93c42eb5-c650-4046-9c18-bfeba9287b05"
      },
      "execution_count": 40,
      "outputs": [
        {
          "output_type": "stream",
          "name": "stdout",
          "text": [
            "Probablity that Clerk 1 is free first is 0.3073\n",
            "Mean waiting time is 4.6147 mins.\n"
          ]
        }
      ]
    }
  ]
}