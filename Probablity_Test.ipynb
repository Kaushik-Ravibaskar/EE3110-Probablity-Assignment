{
  "cells": [
    {
      "cell_type": "markdown",
      "metadata": {},
      "source": [
        "## Question Given To Me\n",
        "\n",
        "Assume that the probability of a defective computer component is 0.02. Components\n",
        "are randomly selected. \n",
        "\n",
        "(a) Simulate the probability that the first defect is caused by the 30th component tested.\n",
        "\n",
        "(b) Plot the probability for the sample size of 20000,40000,60000,80000,100000.\n",
        "\n",
        "(c) How many components do you expect to test until one is found to be defective?\n",
        "\n",
        "(d) Compare the simulated value for 1000000 samples with the theoretical value."
      ]
    },
    {
      "cell_type": "code",
      "execution_count": null,
      "metadata": {
        "id": "bWxl2dRrOzN6"
      },
      "outputs": [],
      "source": [
        "import numpy as np\n",
        "import matplotlib.pyplot as plt"
      ]
    },
    {
      "cell_type": "code",
      "execution_count": null,
      "metadata": {
        "id": "edg3-FnoLmjS"
      },
      "outputs": [],
      "source": [
        "#stating probablities\n",
        "p_defective = 0.02\n",
        "N_samples = 1000000\n",
        "\n",
        "trial_samples = 100\n",
        "exp_samples = N_samples//trial_samples"
      ]
    },
    {
      "cell_type": "code",
      "execution_count": null,
      "metadata": {
        "colab": {
          "base_uri": "https://localhost:8080/"
        },
        "id": "te438sc7NHj3",
        "outputId": "b8bfc4af-3d8c-49d1-9a41-4126a5386062"
      },
      "outputs": [
        {
          "name": "stdout",
          "output_type": "stream",
          "text": [
            "Probablity that 30th component causes the first defect is 0.0120\n"
          ]
        }
      ],
      "source": [
        "#a. simulating the probablity that 1st defect is caused by 30th component tested\n",
        "count_1 = 0\n",
        "count_2 = None\n",
        "EXP = []\n",
        "\n",
        "for i in range(exp_samples):\n",
        "  count_2 = 0\n",
        "\n",
        "  EXP = np.random.binomial(1, p_defective, size = trial_samples)\n",
        "\n",
        "  for j in EXP:\n",
        "    count_2 += 1\n",
        "\n",
        "    if (j == 1):\n",
        "      if (count_2 == 30):\n",
        "        count_1 += 1\n",
        "        break\n",
        "      else:\n",
        "        break\n",
        "    else:\n",
        "      pass\n",
        "\n",
        "p_30_fail = count_1/exp_samples\n",
        "print('Probablity that 30th component causes the first defect is {:.4f}'.format(p_30_fail))\n",
        "\n",
        "\n"
      ]
    },
    {
      "cell_type": "code",
      "execution_count": null,
      "metadata": {
        "colab": {
          "base_uri": "https://localhost:8080/",
          "height": 530
        },
        "id": "pOU6VVBBQDcw",
        "outputId": "cb7bbfb6-d967-4e58-aa83-04c53f51917e"
      },
      "outputs": [
        {
          "data": {
            "text/plain": [
              "Text(0.5, 1.0, 'Probablity for various sample size')"
            ]
          },
          "execution_count": 26,
          "metadata": {},
          "output_type": "execute_result"
        },
        {
          "data": {
            "image/png": "[encoded data removed]",
            "text/plain": [
              "<Figure size 576x576 with 1 Axes>"
            ]
          },
          "metadata": {
            "needs_background": "light"
          },
          "output_type": "display_data"
        }
      ],
      "source": [
        "#b. plotting the probablities for various sample sizes\n",
        "p_defective = 0.02\n",
        "N_samples = [20000, 40000, 60000, 80000, 100000]\n",
        "trial_samples = 100\n",
        "p_data = []\n",
        "\n",
        "for r in N_samples:\n",
        "  exp_samples = r//trial_samples\n",
        "  p_30_fail = 0\n",
        "  count_1 = 0\n",
        "  count_2 = 0\n",
        "  EXP = []\n",
        "\n",
        "  for i in range(exp_samples):\n",
        "    count_2 = 0\n",
        "\n",
        "    EXP = np.random.binomial(1, p_defective, size = trial_samples)\n",
        "\n",
        "    for j in EXP:\n",
        "      count_2 += 1\n",
        "\n",
        "      if (j == 1):\n",
        "        if (count_2 == 30):\n",
        "          count_1 += 1\n",
        "          break\n",
        "        else:\n",
        "          break\n",
        "      else:\n",
        "        pass\n",
        "\n",
        "  p_30_fail = count_1/exp_samples\n",
        "  p_data.append(p_30_fail)\n",
        "\n",
        "plt.figure(figsize = (8,8))\n",
        "plt.plot(N_samples, p_data, '--ro')\n",
        "plt.xlabel('No. of samples')\n",
        "plt.ylabel('Probablity')\n",
        "plt.title('Probablity for various sample size')\n",
        "\n",
        "\n"
      ]
    },
    {
      "cell_type": "code",
      "execution_count": null,
      "metadata": {
        "colab": {
          "base_uri": "https://localhost:8080/"
        },
        "id": "573SLXrGSWwT",
        "outputId": "53f30bae-2e6a-459b-f70e-2f8e702c8b38"
      },
      "outputs": [
        {
          "name": "stdout",
          "output_type": "stream",
          "text": [
            "The number of components we expect to test before one is found defective is 49.0138\n",
            "The number of components we expect to test before one is found defective is (to nearest integer) 49.0000\n"
          ]
        }
      ],
      "source": [
        "#c. Expectation of number of components tested until one is found to be defective\n",
        "p_defective = 0.02\n",
        "N_samples = 1000000\n",
        "\n",
        "trial_samples = 200\n",
        "exp_samples = N_samples//trial_samples\n",
        "EXP = []\n",
        "RV = []\n",
        "\n",
        "for i in range(exp_samples):\n",
        "  count = 0\n",
        "  EXP = np.random.binomial(1, p_defective, size = trial_samples)\n",
        "\n",
        "  for j in EXP:\n",
        "    count += 1\n",
        "\n",
        "    if(j == 1):\n",
        "      break\n",
        "    else:\n",
        "      pass\n",
        "    \n",
        "  RV.append(count)\n",
        "\n",
        "mean_value = np.mean(RV)\n",
        "print('The number of components we expect to test before one is found defective is {:.4f}'.format(mean_value))\n",
        "print('The number of components we expect to test before one is found defective is (to nearest integer) {:.4f}'.format(mean_value.astype(int)))  \n",
        "\n"
      ]
    },
    {
      "cell_type": "markdown",
      "metadata": {
        "id": "3CW4zahXU597"
      },
      "source": [
        "d. I did the simulation for 1000000 samples in part c. Now the problem can be understood as a geometric random variable wherein success probablity is 0.02. Hence the expectation of number of trials (tests) before getting first success (defective component) is (1/p) = 50 (expected value)\n",
        "\n",
        "From above, I got the expected trials to be 49, which is very close to 50. Hence it satisfies the theoretical value."
      ]
    }
  ],
  "metadata": {
    "colab": {
      "provenance": []
    },
    "kernelspec": {
      "display_name": "Python 3",
      "name": "python3"
    },
    "language_info": {
      "name": "python"
    }
  },
  "nbformat": 4,
  "nbformat_minor": 0
}
